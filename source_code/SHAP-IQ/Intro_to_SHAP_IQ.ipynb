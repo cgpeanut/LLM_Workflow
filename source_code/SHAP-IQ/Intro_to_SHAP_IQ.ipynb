{
  "nbformat": 4,
  "nbformat_minor": 0,
  "metadata": {
    "colab": {
      "provenance": []
    },
    "kernelspec": {
      "name": "python3",
      "display_name": "Python 3"
    },
    "language_info": {
      "name": "python"
    }
  },
  "cells": [
    {
      "cell_type": "markdown",
      "source": [
        "# Getting Started with SHAP-IQ\n",
        "In this tutorial, we explore how to use the shapiq package to uncover and visualize feature interactions in machine learning models using Shapley Interaction Indices (SII), building on the foundation of traditional Shapley values.\n",
        "\n",
        "Shapley values are great for explaining individual feature contributions in AI models but fail to capture feature interactions. Shapley interactions go a step further by separating individual effects from interactions, offering deeper insights—like how longitude and latitude together influence house prices. In this tutorial, we’ll get started with the shapiq package to compute and explore these Shapley interactions for any model."
      ],
      "metadata": {
        "id": "Rt-Eh_tCKx_A"
      }
    },
    {
      "cell_type": "markdown",
      "source": [
        "## Installing the dependencies"
      ],
      "metadata": {
        "id": "QB1jRiAGrqAg"
      }
    },
    {
      "cell_type": "code",
      "execution_count": 1,
      "metadata": {
        "colab": {
          "base_uri": "https://localhost:8080/"
        },
        "collapsed": true,
        "id": "yP0DVqkxwq1T",
        "outputId": "6ace009c-113c-44fa-bc27-72444a34f5b2"
      },
      "outputs": [
        {
          "output_type": "stream",
          "name": "stdout",
          "text": [
            "Collecting shapiq\n",
            "  Downloading shapiq-1.3.1-py3-none-any.whl.metadata (30 kB)\n",
            "Collecting overrides\n",
            "  Downloading overrides-7.7.0-py3-none-any.whl.metadata (5.8 kB)\n",
            "Requirement already satisfied: scikit-learn in /usr/local/lib/python3.11/dist-packages (1.6.1)\n",
            "Requirement already satisfied: pandas in /usr/local/lib/python3.11/dist-packages (2.2.2)\n",
            "Requirement already satisfied: numpy in /usr/local/lib/python3.11/dist-packages (from shapiq) (2.0.2)\n",
            "Requirement already satisfied: scipy in /usr/local/lib/python3.11/dist-packages (from shapiq) (1.16.0)\n",
            "Requirement already satisfied: tqdm in /usr/local/lib/python3.11/dist-packages (from shapiq) (4.67.1)\n",
            "Requirement already satisfied: requests in /usr/local/lib/python3.11/dist-packages (from shapiq) (2.32.3)\n",
            "Collecting sparse-transform (from shapiq)\n",
            "  Downloading sparse_transform-0.2.1-py3-none-any.whl.metadata (759 bytes)\n",
            "Collecting galois (from shapiq)\n",
            "  Downloading galois-0.4.6-py3-none-any.whl.metadata (14 kB)\n",
            "Requirement already satisfied: matplotlib in /usr/local/lib/python3.11/dist-packages (from shapiq) (3.10.0)\n",
            "Requirement already satisfied: networkx in /usr/local/lib/python3.11/dist-packages (from shapiq) (3.5)\n",
            "Requirement already satisfied: colour in /usr/local/lib/python3.11/dist-packages (from shapiq) (0.1.5)\n",
            "Requirement already satisfied: pillow in /usr/local/lib/python3.11/dist-packages (from shapiq) (11.3.0)\n",
            "Requirement already satisfied: joblib>=1.2.0 in /usr/local/lib/python3.11/dist-packages (from scikit-learn) (1.5.1)\n",
            "Requirement already satisfied: threadpoolctl>=3.1.0 in /usr/local/lib/python3.11/dist-packages (from scikit-learn) (3.6.0)\n",
            "Requirement already satisfied: python-dateutil>=2.8.2 in /usr/local/lib/python3.11/dist-packages (from pandas) (2.9.0.post0)\n",
            "Requirement already satisfied: pytz>=2020.1 in /usr/local/lib/python3.11/dist-packages (from pandas) (2025.2)\n",
            "Requirement already satisfied: tzdata>=2022.7 in /usr/local/lib/python3.11/dist-packages (from pandas) (2025.2)\n",
            "Requirement already satisfied: six>=1.5 in /usr/local/lib/python3.11/dist-packages (from python-dateutil>=2.8.2->pandas) (1.17.0)\n",
            "Requirement already satisfied: numba<0.62,>=0.55 in /usr/local/lib/python3.11/dist-packages (from galois->shapiq) (0.60.0)\n",
            "Requirement already satisfied: typing-extensions>=4.0.0 in /usr/local/lib/python3.11/dist-packages (from galois->shapiq) (4.14.1)\n",
            "Requirement already satisfied: contourpy>=1.0.1 in /usr/local/lib/python3.11/dist-packages (from matplotlib->shapiq) (1.3.2)\n",
            "Requirement already satisfied: cycler>=0.10 in /usr/local/lib/python3.11/dist-packages (from matplotlib->shapiq) (0.12.1)\n",
            "Requirement already satisfied: fonttools>=4.22.0 in /usr/local/lib/python3.11/dist-packages (from matplotlib->shapiq) (4.59.0)\n",
            "Requirement already satisfied: kiwisolver>=1.3.1 in /usr/local/lib/python3.11/dist-packages (from matplotlib->shapiq) (1.4.8)\n",
            "Requirement already satisfied: packaging>=20.0 in /usr/local/lib/python3.11/dist-packages (from matplotlib->shapiq) (25.0)\n",
            "Requirement already satisfied: pyparsing>=2.3.1 in /usr/local/lib/python3.11/dist-packages (from matplotlib->shapiq) (3.2.3)\n",
            "Requirement already satisfied: charset-normalizer<4,>=2 in /usr/local/lib/python3.11/dist-packages (from requests->shapiq) (3.4.2)\n",
            "Requirement already satisfied: idna<4,>=2.5 in /usr/local/lib/python3.11/dist-packages (from requests->shapiq) (3.10)\n",
            "Requirement already satisfied: urllib3<3,>=1.21.1 in /usr/local/lib/python3.11/dist-packages (from requests->shapiq) (2.5.0)\n",
            "Requirement already satisfied: certifi>=2017.4.17 in /usr/local/lib/python3.11/dist-packages (from requests->shapiq) (2025.7.14)\n",
            "Requirement already satisfied: llvmlite<0.44,>=0.43.0dev0 in /usr/local/lib/python3.11/dist-packages (from numba<0.62,>=0.55->galois->shapiq) (0.43.0)\n",
            "Downloading shapiq-1.3.1-py3-none-any.whl (284 kB)\n",
            "\u001b[2K   \u001b[90m━━━━━━━━━━━━━━━━━━━━━━━━━━━━━━━━━━━━━━━━\u001b[0m \u001b[32m284.3/284.3 kB\u001b[0m \u001b[31m13.1 MB/s\u001b[0m eta \u001b[36m0:00:00\u001b[0m\n",
            "\u001b[?25hDownloading overrides-7.7.0-py3-none-any.whl (17 kB)\n",
            "Downloading galois-0.4.6-py3-none-any.whl (4.2 MB)\n",
            "\u001b[2K   \u001b[90m━━━━━━━━━━━━━━━━━━━━━━━━━━━━━━━━━━━━━━━━\u001b[0m \u001b[32m4.2/4.2 MB\u001b[0m \u001b[31m21.7 MB/s\u001b[0m eta \u001b[36m0:00:00\u001b[0m\n",
            "\u001b[?25hDownloading sparse_transform-0.2.1-py3-none-any.whl (27 kB)\n",
            "Installing collected packages: overrides, galois, sparse-transform, shapiq\n",
            "Successfully installed galois-0.4.6 overrides-7.7.0 shapiq-1.3.1 sparse-transform-0.2.1\n"
          ]
        }
      ],
      "source": [
        "!pip install shapiq overrides scikit-learn pandas numpy"
      ]
    },
    {
      "cell_type": "markdown",
      "source": [
        "## Data Loading and Pre-processing\n",
        "In this tutorial, we'll use the Bike Sharing dataset from OpenML. After loading the data, we'll split it into training and testing sets to prepare it for model training and evaluation."
      ],
      "metadata": {
        "id": "Li7o-rstrujF"
      }
    },
    {
      "cell_type": "code",
      "source": [
        "import shapiq\n",
        "from sklearn.ensemble import RandomForestRegressor\n",
        "from sklearn.metrics import mean_absolute_error, mean_squared_error, r2_score\n",
        "from sklearn.model_selection import train_test_split\n",
        "import numpy as np\n",
        "\n",
        "# Load data\n",
        "X, y = shapiq.load_bike_sharing(to_numpy=True)\n",
        "\n",
        "# Split into training and testing\n",
        "X_train, X_test, y_train, y_test = train_test_split(X, y, test_size=0.2, random_state=42)"
      ],
      "metadata": {
        "id": "CKpWQAFoCIgF"
      },
      "execution_count": 2,
      "outputs": []
    },
    {
      "cell_type": "code",
      "source": [
        "df = shapiq.load_bike_sharing()\n",
        "df[0].head()"
      ],
      "metadata": {
        "colab": {
          "base_uri": "https://localhost:8080/",
          "height": 206
        },
        "id": "_CtI5w6_CSwI",
        "outputId": "77358906-ead3-45f1-e97c-569437b9d2be"
      },
      "execution_count": 3,
      "outputs": [
        {
          "output_type": "execute_result",
          "data": {
            "text/plain": [
              "       hour    temp  feel_temp  humidity  windspeed  year  month  holiday  \\\n",
              "0 -1.000000 -0.8125  -0.683918  0.600000  -1.300268  -1.0   -1.0      0.0   \n",
              "1 -0.916667 -0.8750  -0.736714  0.566667  -1.300268  -1.0   -1.0      0.0   \n",
              "2 -0.833333 -0.8750  -0.736714  0.566667  -1.300268  -1.0   -1.0      0.0   \n",
              "3 -0.750000 -0.8125  -0.683918  0.400000  -1.300268  -1.0   -1.0      0.0   \n",
              "4 -0.666667 -0.8125  -0.683918  0.400000  -1.300268  -1.0   -1.0      0.0   \n",
              "\n",
              "   weekday  workingday  season  weather  \n",
              "0     0.75        -1.0     1.0      0.0  \n",
              "1     0.75        -1.0     1.0      0.0  \n",
              "2     0.75        -1.0     1.0      0.0  \n",
              "3     0.75        -1.0     1.0      0.0  \n",
              "4     0.75        -1.0     1.0      0.0  "
            ],
            "text/html": [
              "\n",
              "  <div id=\"df-4ad2c2a4-0c15-49ae-be28-94fc4f8eae5a\" class=\"colab-df-container\">\n",
              "    <div>\n",
              "<style scoped>\n",
              "    .dataframe tbody tr th:only-of-type {\n",
              "        vertical-align: middle;\n",
              "    }\n",
              "\n",
              "    .dataframe tbody tr th {\n",
              "        vertical-align: top;\n",
              "    }\n",
              "\n",
              "    .dataframe thead th {\n",
              "        text-align: right;\n",
              "    }\n",
              "</style>\n",
              "<table border=\"1\" class=\"dataframe\">\n",
              "  <thead>\n",
              "    <tr style=\"text-align: right;\">\n",
              "      <th></th>\n",
              "      <th>hour</th>\n",
              "      <th>temp</th>\n",
              "      <th>feel_temp</th>\n",
              "      <th>humidity</th>\n",
              "      <th>windspeed</th>\n",
              "      <th>year</th>\n",
              "      <th>month</th>\n",
              "      <th>holiday</th>\n",
              "      <th>weekday</th>\n",
              "      <th>workingday</th>\n",
              "      <th>season</th>\n",
              "      <th>weather</th>\n",
              "    </tr>\n",
              "  </thead>\n",
              "  <tbody>\n",
              "    <tr>\n",
              "      <th>0</th>\n",
              "      <td>-1.000000</td>\n",
              "      <td>-0.8125</td>\n",
              "      <td>-0.683918</td>\n",
              "      <td>0.600000</td>\n",
              "      <td>-1.300268</td>\n",
              "      <td>-1.0</td>\n",
              "      <td>-1.0</td>\n",
              "      <td>0.0</td>\n",
              "      <td>0.75</td>\n",
              "      <td>-1.0</td>\n",
              "      <td>1.0</td>\n",
              "      <td>0.0</td>\n",
              "    </tr>\n",
              "    <tr>\n",
              "      <th>1</th>\n",
              "      <td>-0.916667</td>\n",
              "      <td>-0.8750</td>\n",
              "      <td>-0.736714</td>\n",
              "      <td>0.566667</td>\n",
              "      <td>-1.300268</td>\n",
              "      <td>-1.0</td>\n",
              "      <td>-1.0</td>\n",
              "      <td>0.0</td>\n",
              "      <td>0.75</td>\n",
              "      <td>-1.0</td>\n",
              "      <td>1.0</td>\n",
              "      <td>0.0</td>\n",
              "    </tr>\n",
              "    <tr>\n",
              "      <th>2</th>\n",
              "      <td>-0.833333</td>\n",
              "      <td>-0.8750</td>\n",
              "      <td>-0.736714</td>\n",
              "      <td>0.566667</td>\n",
              "      <td>-1.300268</td>\n",
              "      <td>-1.0</td>\n",
              "      <td>-1.0</td>\n",
              "      <td>0.0</td>\n",
              "      <td>0.75</td>\n",
              "      <td>-1.0</td>\n",
              "      <td>1.0</td>\n",
              "      <td>0.0</td>\n",
              "    </tr>\n",
              "    <tr>\n",
              "      <th>3</th>\n",
              "      <td>-0.750000</td>\n",
              "      <td>-0.8125</td>\n",
              "      <td>-0.683918</td>\n",
              "      <td>0.400000</td>\n",
              "      <td>-1.300268</td>\n",
              "      <td>-1.0</td>\n",
              "      <td>-1.0</td>\n",
              "      <td>0.0</td>\n",
              "      <td>0.75</td>\n",
              "      <td>-1.0</td>\n",
              "      <td>1.0</td>\n",
              "      <td>0.0</td>\n",
              "    </tr>\n",
              "    <tr>\n",
              "      <th>4</th>\n",
              "      <td>-0.666667</td>\n",
              "      <td>-0.8125</td>\n",
              "      <td>-0.683918</td>\n",
              "      <td>0.400000</td>\n",
              "      <td>-1.300268</td>\n",
              "      <td>-1.0</td>\n",
              "      <td>-1.0</td>\n",
              "      <td>0.0</td>\n",
              "      <td>0.75</td>\n",
              "      <td>-1.0</td>\n",
              "      <td>1.0</td>\n",
              "      <td>0.0</td>\n",
              "    </tr>\n",
              "  </tbody>\n",
              "</table>\n",
              "</div>\n",
              "    <div class=\"colab-df-buttons\">\n",
              "\n",
              "  <div class=\"colab-df-container\">\n",
              "    <button class=\"colab-df-convert\" onclick=\"convertToInteractive('df-4ad2c2a4-0c15-49ae-be28-94fc4f8eae5a')\"\n",
              "            title=\"Convert this dataframe to an interactive table.\"\n",
              "            style=\"display:none;\">\n",
              "\n",
              "  <svg xmlns=\"http://www.w3.org/2000/svg\" height=\"24px\" viewBox=\"0 -960 960 960\">\n",
              "    <path d=\"M120-120v-720h720v720H120Zm60-500h600v-160H180v160Zm220 220h160v-160H400v160Zm0 220h160v-160H400v160ZM180-400h160v-160H180v160Zm440 0h160v-160H620v160ZM180-180h160v-160H180v160Zm440 0h160v-160H620v160Z\"/>\n",
              "  </svg>\n",
              "    </button>\n",
              "\n",
              "  <style>\n",
              "    .colab-df-container {\n",
              "      display:flex;\n",
              "      gap: 12px;\n",
              "    }\n",
              "\n",
              "    .colab-df-convert {\n",
              "      background-color: #E8F0FE;\n",
              "      border: none;\n",
              "      border-radius: 50%;\n",
              "      cursor: pointer;\n",
              "      display: none;\n",
              "      fill: #1967D2;\n",
              "      height: 32px;\n",
              "      padding: 0 0 0 0;\n",
              "      width: 32px;\n",
              "    }\n",
              "\n",
              "    .colab-df-convert:hover {\n",
              "      background-color: #E2EBFA;\n",
              "      box-shadow: 0px 1px 2px rgba(60, 64, 67, 0.3), 0px 1px 3px 1px rgba(60, 64, 67, 0.15);\n",
              "      fill: #174EA6;\n",
              "    }\n",
              "\n",
              "    .colab-df-buttons div {\n",
              "      margin-bottom: 4px;\n",
              "    }\n",
              "\n",
              "    [theme=dark] .colab-df-convert {\n",
              "      background-color: #3B4455;\n",
              "      fill: #D2E3FC;\n",
              "    }\n",
              "\n",
              "    [theme=dark] .colab-df-convert:hover {\n",
              "      background-color: #434B5C;\n",
              "      box-shadow: 0px 1px 3px 1px rgba(0, 0, 0, 0.15);\n",
              "      filter: drop-shadow(0px 1px 2px rgba(0, 0, 0, 0.3));\n",
              "      fill: #FFFFFF;\n",
              "    }\n",
              "  </style>\n",
              "\n",
              "    <script>\n",
              "      const buttonEl =\n",
              "        document.querySelector('#df-4ad2c2a4-0c15-49ae-be28-94fc4f8eae5a button.colab-df-convert');\n",
              "      buttonEl.style.display =\n",
              "        google.colab.kernel.accessAllowed ? 'block' : 'none';\n",
              "\n",
              "      async function convertToInteractive(key) {\n",
              "        const element = document.querySelector('#df-4ad2c2a4-0c15-49ae-be28-94fc4f8eae5a');\n",
              "        const dataTable =\n",
              "          await google.colab.kernel.invokeFunction('convertToInteractive',\n",
              "                                                    [key], {});\n",
              "        if (!dataTable) return;\n",
              "\n",
              "        const docLinkHtml = 'Like what you see? Visit the ' +\n",
              "          '<a target=\"_blank\" href=https://colab.research.google.com/notebooks/data_table.ipynb>data table notebook</a>'\n",
              "          + ' to learn more about interactive tables.';\n",
              "        element.innerHTML = '';\n",
              "        dataTable['output_type'] = 'display_data';\n",
              "        await google.colab.output.renderOutput(dataTable, element);\n",
              "        const docLink = document.createElement('div');\n",
              "        docLink.innerHTML = docLinkHtml;\n",
              "        element.appendChild(docLink);\n",
              "      }\n",
              "    </script>\n",
              "  </div>\n",
              "\n",
              "\n",
              "    <div id=\"df-4ce0da9c-b164-4249-b791-7804011e9228\">\n",
              "      <button class=\"colab-df-quickchart\" onclick=\"quickchart('df-4ce0da9c-b164-4249-b791-7804011e9228')\"\n",
              "                title=\"Suggest charts\"\n",
              "                style=\"display:none;\">\n",
              "\n",
              "<svg xmlns=\"http://www.w3.org/2000/svg\" height=\"24px\"viewBox=\"0 0 24 24\"\n",
              "     width=\"24px\">\n",
              "    <g>\n",
              "        <path d=\"M19 3H5c-1.1 0-2 .9-2 2v14c0 1.1.9 2 2 2h14c1.1 0 2-.9 2-2V5c0-1.1-.9-2-2-2zM9 17H7v-7h2v7zm4 0h-2V7h2v10zm4 0h-2v-4h2v4z\"/>\n",
              "    </g>\n",
              "</svg>\n",
              "      </button>\n",
              "\n",
              "<style>\n",
              "  .colab-df-quickchart {\n",
              "      --bg-color: #E8F0FE;\n",
              "      --fill-color: #1967D2;\n",
              "      --hover-bg-color: #E2EBFA;\n",
              "      --hover-fill-color: #174EA6;\n",
              "      --disabled-fill-color: #AAA;\n",
              "      --disabled-bg-color: #DDD;\n",
              "  }\n",
              "\n",
              "  [theme=dark] .colab-df-quickchart {\n",
              "      --bg-color: #3B4455;\n",
              "      --fill-color: #D2E3FC;\n",
              "      --hover-bg-color: #434B5C;\n",
              "      --hover-fill-color: #FFFFFF;\n",
              "      --disabled-bg-color: #3B4455;\n",
              "      --disabled-fill-color: #666;\n",
              "  }\n",
              "\n",
              "  .colab-df-quickchart {\n",
              "    background-color: var(--bg-color);\n",
              "    border: none;\n",
              "    border-radius: 50%;\n",
              "    cursor: pointer;\n",
              "    display: none;\n",
              "    fill: var(--fill-color);\n",
              "    height: 32px;\n",
              "    padding: 0;\n",
              "    width: 32px;\n",
              "  }\n",
              "\n",
              "  .colab-df-quickchart:hover {\n",
              "    background-color: var(--hover-bg-color);\n",
              "    box-shadow: 0 1px 2px rgba(60, 64, 67, 0.3), 0 1px 3px 1px rgba(60, 64, 67, 0.15);\n",
              "    fill: var(--button-hover-fill-color);\n",
              "  }\n",
              "\n",
              "  .colab-df-quickchart-complete:disabled,\n",
              "  .colab-df-quickchart-complete:disabled:hover {\n",
              "    background-color: var(--disabled-bg-color);\n",
              "    fill: var(--disabled-fill-color);\n",
              "    box-shadow: none;\n",
              "  }\n",
              "\n",
              "  .colab-df-spinner {\n",
              "    border: 2px solid var(--fill-color);\n",
              "    border-color: transparent;\n",
              "    border-bottom-color: var(--fill-color);\n",
              "    animation:\n",
              "      spin 1s steps(1) infinite;\n",
              "  }\n",
              "\n",
              "  @keyframes spin {\n",
              "    0% {\n",
              "      border-color: transparent;\n",
              "      border-bottom-color: var(--fill-color);\n",
              "      border-left-color: var(--fill-color);\n",
              "    }\n",
              "    20% {\n",
              "      border-color: transparent;\n",
              "      border-left-color: var(--fill-color);\n",
              "      border-top-color: var(--fill-color);\n",
              "    }\n",
              "    30% {\n",
              "      border-color: transparent;\n",
              "      border-left-color: var(--fill-color);\n",
              "      border-top-color: var(--fill-color);\n",
              "      border-right-color: var(--fill-color);\n",
              "    }\n",
              "    40% {\n",
              "      border-color: transparent;\n",
              "      border-right-color: var(--fill-color);\n",
              "      border-top-color: var(--fill-color);\n",
              "    }\n",
              "    60% {\n",
              "      border-color: transparent;\n",
              "      border-right-color: var(--fill-color);\n",
              "    }\n",
              "    80% {\n",
              "      border-color: transparent;\n",
              "      border-right-color: var(--fill-color);\n",
              "      border-bottom-color: var(--fill-color);\n",
              "    }\n",
              "    90% {\n",
              "      border-color: transparent;\n",
              "      border-bottom-color: var(--fill-color);\n",
              "    }\n",
              "  }\n",
              "</style>\n",
              "\n",
              "      <script>\n",
              "        async function quickchart(key) {\n",
              "          const quickchartButtonEl =\n",
              "            document.querySelector('#' + key + ' button');\n",
              "          quickchartButtonEl.disabled = true;  // To prevent multiple clicks.\n",
              "          quickchartButtonEl.classList.add('colab-df-spinner');\n",
              "          try {\n",
              "            const charts = await google.colab.kernel.invokeFunction(\n",
              "                'suggestCharts', [key], {});\n",
              "          } catch (error) {\n",
              "            console.error('Error during call to suggestCharts:', error);\n",
              "          }\n",
              "          quickchartButtonEl.classList.remove('colab-df-spinner');\n",
              "          quickchartButtonEl.classList.add('colab-df-quickchart-complete');\n",
              "        }\n",
              "        (() => {\n",
              "          let quickchartButtonEl =\n",
              "            document.querySelector('#df-4ce0da9c-b164-4249-b791-7804011e9228 button');\n",
              "          quickchartButtonEl.style.display =\n",
              "            google.colab.kernel.accessAllowed ? 'block' : 'none';\n",
              "        })();\n",
              "      </script>\n",
              "    </div>\n",
              "\n",
              "    </div>\n",
              "  </div>\n"
            ],
            "application/vnd.google.colaboratory.intrinsic+json": {
              "type": "dataframe",
              "summary": "{\n  \"name\": \"df[0]\",\n  \"rows\": 5,\n  \"fields\": [\n    {\n      \"column\": \"hour\",\n      \"properties\": {\n        \"dtype\": \"number\",\n        \"std\": 0.13176156917368248,\n        \"min\": -1.0,\n        \"max\": -0.6666666666666666,\n        \"num_unique_values\": 5,\n        \"samples\": [\n          -0.9166666666666666,\n          -0.6666666666666666,\n          -0.8333333333333334\n        ],\n        \"semantic_type\": \"\",\n        \"description\": \"\"\n      }\n    },\n    {\n      \"column\": \"temp\",\n      \"properties\": {\n        \"dtype\": \"number\",\n        \"std\": 0.03423265984407289,\n        \"min\": -0.8750000000000001,\n        \"max\": -0.8125000000000001,\n        \"num_unique_values\": 2,\n        \"samples\": [\n          -0.8750000000000001,\n          -0.8125000000000001\n        ],\n        \"semantic_type\": \"\",\n        \"description\": \"\"\n      }\n    },\n    {\n      \"column\": \"feel_temp\",\n      \"properties\": {\n        \"dtype\": \"number\",\n        \"std\": 0.028917620264253294,\n        \"min\": -0.736714136853074,\n        \"max\": -0.6839180270927405,\n        \"num_unique_values\": 2,\n        \"samples\": [\n          -0.736714136853074,\n          -0.6839180270927405\n        ],\n        \"semantic_type\": \"\",\n        \"description\": \"\"\n      }\n    },\n    {\n      \"column\": \"humidity\",\n      \"properties\": {\n        \"dtype\": \"number\",\n        \"std\": 0.0983192080250176,\n        \"min\": 0.3999999999999999,\n        \"max\": 0.6000000000000001,\n        \"num_unique_values\": 3,\n        \"samples\": [\n          0.6000000000000001,\n          0.5666666666666668\n        ],\n        \"semantic_type\": \"\",\n        \"description\": \"\"\n      }\n    },\n    {\n      \"column\": \"windspeed\",\n      \"properties\": {\n        \"dtype\": \"number\",\n        \"std\": 0.0,\n        \"min\": -1.3002680965147455,\n        \"max\": -1.3002680965147455,\n        \"num_unique_values\": 1,\n        \"samples\": [\n          -1.3002680965147455\n        ],\n        \"semantic_type\": \"\",\n        \"description\": \"\"\n      }\n    },\n    {\n      \"column\": \"year\",\n      \"properties\": {\n        \"dtype\": \"number\",\n        \"std\": 0.0,\n        \"min\": -1.0,\n        \"max\": -1.0,\n        \"num_unique_values\": 1,\n        \"samples\": [\n          -1.0\n        ],\n        \"semantic_type\": \"\",\n        \"description\": \"\"\n      }\n    },\n    {\n      \"column\": \"month\",\n      \"properties\": {\n        \"dtype\": \"number\",\n        \"std\": 0.0,\n        \"min\": -1.0,\n        \"max\": -1.0,\n        \"num_unique_values\": 1,\n        \"samples\": [\n          -1.0\n        ],\n        \"semantic_type\": \"\",\n        \"description\": \"\"\n      }\n    },\n    {\n      \"column\": \"holiday\",\n      \"properties\": {\n        \"dtype\": \"number\",\n        \"std\": 0.0,\n        \"min\": 0.0,\n        \"max\": 0.0,\n        \"num_unique_values\": 1,\n        \"samples\": [\n          0.0\n        ],\n        \"semantic_type\": \"\",\n        \"description\": \"\"\n      }\n    },\n    {\n      \"column\": \"weekday\",\n      \"properties\": {\n        \"dtype\": \"number\",\n        \"std\": 0.0,\n        \"min\": 0.75,\n        \"max\": 0.75,\n        \"num_unique_values\": 1,\n        \"samples\": [\n          0.75\n        ],\n        \"semantic_type\": \"\",\n        \"description\": \"\"\n      }\n    },\n    {\n      \"column\": \"workingday\",\n      \"properties\": {\n        \"dtype\": \"number\",\n        \"std\": 0.0,\n        \"min\": -1.0,\n        \"max\": -1.0,\n        \"num_unique_values\": 1,\n        \"samples\": [\n          -1.0\n        ],\n        \"semantic_type\": \"\",\n        \"description\": \"\"\n      }\n    },\n    {\n      \"column\": \"season\",\n      \"properties\": {\n        \"dtype\": \"number\",\n        \"std\": 0.0,\n        \"min\": 1.0,\n        \"max\": 1.0,\n        \"num_unique_values\": 1,\n        \"samples\": [\n          1.0\n        ],\n        \"semantic_type\": \"\",\n        \"description\": \"\"\n      }\n    },\n    {\n      \"column\": \"weather\",\n      \"properties\": {\n        \"dtype\": \"number\",\n        \"std\": 0.0,\n        \"min\": 0.0,\n        \"max\": 0.0,\n        \"num_unique_values\": 1,\n        \"samples\": [\n          0.0\n        ],\n        \"semantic_type\": \"\",\n        \"description\": \"\"\n      }\n    }\n  ]\n}"
            }
          },
          "metadata": {},
          "execution_count": 3
        }
      ]
    },
    {
      "cell_type": "markdown",
      "source": [
        "## Model Training and Performance Evaluation"
      ],
      "metadata": {
        "id": "LcJIfXtsssv8"
      }
    },
    {
      "cell_type": "code",
      "source": [
        "# Train model\n",
        "model = RandomForestRegressor()\n",
        "model.fit(X_train, y_train)\n",
        "\n",
        "# Predict\n",
        "y_pred = model.predict(X_test)\n",
        "\n",
        "# Evaluate\n",
        "mae = mean_absolute_error(y_test, y_pred)\n",
        "rmse = np.sqrt(mean_squared_error(y_test, y_pred))\n",
        "r2 = r2_score(y_test, y_pred)\n",
        "\n",
        "print(f\"R² Score: {r2:.4f}\")\n",
        "print(f\"Mean Absolute Error: {mae:.4f}\")\n",
        "print(f\"Root Mean Squared Error: {rmse:.4f}\")"
      ],
      "metadata": {
        "colab": {
          "base_uri": "https://localhost:8080/"
        },
        "id": "1a6thEwdBATY",
        "outputId": "22931231-f62d-4eb4-8ada-ad6faa2c23ab"
      },
      "execution_count": 4,
      "outputs": [
        {
          "output_type": "stream",
          "name": "stdout",
          "text": [
            "R² Score: 0.9447\n",
            "Mean Absolute Error: 24.9615\n",
            "Root Mean Squared Error: 41.8623\n"
          ]
        }
      ]
    },
    {
      "cell_type": "markdown",
      "source": [
        "Our model gives an R² score of 0.9447"
      ],
      "metadata": {
        "id": "77e_WjLOs7T6"
      }
    },
    {
      "cell_type": "markdown",
      "source": [
        "## Setting up an Explainer\n",
        "We set up a TabularExplainer using the shapiq package to compute Shapley interaction values based on the k-SII (k-order Shapley Interaction Index) method. By specifying max_order=4, we allow the explainer to consider interactions of up to 4 features simultaneously, enabling deeper insights into how groups of features collectively impact model predictions."
      ],
      "metadata": {
        "id": "CgsNPk3MtElb"
      }
    },
    {
      "cell_type": "code",
      "source": [
        "# set up an explainer with k-SII interaction values up to order 4\n",
        "explainer = shapiq.TabularExplainer(\n",
        "    model=model,\n",
        "    data=X,\n",
        "    index=\"k-SII\",\n",
        "    max_order=4\n",
        ")"
      ],
      "metadata": {
        "id": "DvuOabB_BE6Q"
      },
      "execution_count": 5,
      "outputs": []
    },
    {
      "cell_type": "markdown",
      "source": [
        "## Explaining a Local Instance\n",
        "We select a specific test instance (index 100) to generate local explanations. The code prints the true and predicted values for this instance, followed by a breakdown of its feature values. This helps us understand the exact inputs passed to the model and sets the context for interpreting the Shapley interaction explanations that follow."
      ],
      "metadata": {
        "id": "6mNrw1qCtQWT"
      }
    },
    {
      "cell_type": "code",
      "source": [
        "from tqdm.asyncio import tqdm\n",
        "# create explanations for different orders\n",
        "feature_names = list(df[0].columns)  # get the feature names\n",
        "n_features = len(feature_names)\n",
        "\n",
        "# select a local instance to be explained\n",
        "instance_id = 100\n",
        "x_explain = X_test[instance_id]\n",
        "y_true = y_test[instance_id]\n",
        "y_pred = model.predict(x_explain.reshape(1, -1))[0]\n",
        "print(f\"Instance {instance_id}, True Value: {y_true}, Predicted Value: {y_pred}\")\n",
        "for i, feature in enumerate(feature_names):\n",
        "    print(f\"{feature}: {x_explain[i]}\")"
      ],
      "metadata": {
        "colab": {
          "base_uri": "https://localhost:8080/"
        },
        "id": "bAUS0OZ6GIj6",
        "outputId": "3a5b6ea0-fbc9-4c6a-e879-904eed3596df"
      },
      "execution_count": 6,
      "outputs": [
        {
          "output_type": "stream",
          "name": "stdout",
          "text": [
            "Instance 100, True Value: 57.0, Predicted Value: 58.12\n",
            "hour: -0.16666666666666666\n",
            "temp: -0.8750000000000001\n",
            "feel_temp: -0.9996526571726293\n",
            "humidity: -0.8666666666666666\n",
            "windspeed: 0.9008042895442363\n",
            "year: -1.0\n",
            "month: -1.0\n",
            "holiday: 0.0\n",
            "weekday: 0.0\n",
            "workingday: 0.0\n",
            "season: 1.0\n",
            "weather: 0.0\n"
          ]
        }
      ]
    },
    {
      "cell_type": "markdown",
      "source": [
        "## Analyzing Interaction Values\n",
        "We use the explainer.explain() method to compute Shapley interaction values for a specific data instance (X[100]) with a budget of 256 model evaluations. This returns an InteractionValues object, which captures how individual features and their combinations influence the model's output. The max_order=4 means we consider interactions involving up to 4 features."
      ],
      "metadata": {
        "id": "DcpzQdQitWoL"
      }
    },
    {
      "cell_type": "code",
      "source": [
        "interaction_values = explainer.explain(X[100], budget=256)\n",
        "# analyse interaction values\n",
        "print(interaction_values)"
      ],
      "metadata": {
        "colab": {
          "base_uri": "https://localhost:8080/"
        },
        "id": "bWzkLdo5H2zL",
        "outputId": "3eacb3aa-5d80-451d-fdca-b1152501a6a8"
      },
      "execution_count": 7,
      "outputs": [
        {
          "output_type": "stream",
          "name": "stdout",
          "text": [
            "InteractionValues(\n",
            "    index=k-SII, max_order=4, min_order=0, estimated=True, estimation_budget=256,\n",
            "    n_players=12, baseline_value=190.1859126194499,\n",
            "    Top 10 interactions:\n",
            "        (): 190.1859126194499\n",
            "        (1, 2, 5): 94.3122600778514\n",
            "        (3, 4, 11): 92.47805831924879\n",
            "        (5, 7, 9): 83.39265709860865\n",
            "        (3, 8, 9): 83.01987750249306\n",
            "        (6, 8, 9): 82.66215127038143\n",
            "        (4, 5, 8): 74.53089121884368\n",
            "        (3, 9, 10): 70.46069068753607\n",
            "        (3, 6, 8): 67.59306277206115\n",
            "        (0, 7, 10): 67.27108432398458\n",
            ")\n"
          ]
        }
      ]
    },
    {
      "cell_type": "markdown",
      "source": [
        "* **baseline_value**: This is the model prediction without using any features,essentially the average prediction.\n",
        "\n",
        "* **(i, j, k):** value: These are the interaction effects — they quantify how much the group of features (i, j, k) contributes jointly to the prediction. Larger values indicate more important or synergistic interactions."
      ],
      "metadata": {
        "id": "HZqx4XQhtiAr"
      }
    },
    {
      "cell_type": "markdown",
      "source": [
        "## First-Order Interaction Values\n",
        "To keep things simple, we compute first-order interaction values—i.e., standard Shapley values that capture only individual feature contributions (no interactions).\n",
        "\n",
        "By setting max_order=1 in the TreeExplainer, we're saying:\n",
        "\n",
        "***“Tell me how much each feature individually contributes to the prediction, without considering any interaction effects.”***\n",
        "\n",
        "These values are known as standard Shapley values. For each feature, it estimates the average marginal contribution to the prediction across all possible permutations of feature inclusion.\n"
      ],
      "metadata": {
        "id": "6GLcexBUt1AL"
      }
    },
    {
      "cell_type": "code",
      "source": [
        "feature_names = list(df[0].columns)\n",
        "explainer = shapiq.TreeExplainer(model=model, max_order=1, index=\"SV\")\n",
        "si_order = explainer.explain(x=x_explain)\n",
        "si_order"
      ],
      "metadata": {
        "colab": {
          "base_uri": "https://localhost:8080/"
        },
        "id": "szX9HQjUBJGx",
        "outputId": "b6a1cd9d-807b-41b7-8725-7486711ae7bb"
      },
      "execution_count": 8,
      "outputs": [
        {
          "output_type": "execute_result",
          "data": {
            "text/plain": [
              "InteractionValues(\n",
              "    index=SV, max_order=1, min_order=0, estimated=False, estimation_budget=None,\n",
              "    n_players=12, baseline_value=190.7174883118752\n",
              ")"
            ]
          },
          "metadata": {},
          "execution_count": 8
        }
      ]
    },
    {
      "cell_type": "markdown",
      "source": [
        "## Plotting a Waterfall chart\n",
        "A Waterfall chart visually breaks down a model's prediction into individual feature contributions.\n",
        "It starts from the baseline prediction and adds/subtracts each feature’s Shapley value to reach the final predicted output.\n",
        "\n",
        "In our case, we’ll use the output of TreeExplainer with max_order=1 (i.e., individual contributions only) to visualize the contribution of each feature."
      ],
      "metadata": {
        "id": "5PSHEC2OuG_Q"
      }
    },
    {
      "cell_type": "code",
      "source": [
        "si_order.plot_waterfall(feature_names=feature_names, show=True)"
      ],
      "metadata": {
        "colab": {
          "base_uri": "https://localhost:8080/",
          "height": 771
        },
        "id": "LK9cBSexKhoq",
        "outputId": "5d021cdc-4c04-43f8-a979-81fcd7e843af"
      },
      "execution_count": 10,
      "outputs": [
        {
          "output_type": "display_data",
          "data": {
            "text/plain": [
              "<Figure size 1455x850 with 3 Axes>"
            ],
            "image/png": "[encoded data removed]"
          },
          "metadata": {}
        }
      ]
    },
    {
      "cell_type": "markdown",
      "source": [
        "In our case, the baseline value (i.e., the model’s expected output without any feature information) is 190.717.\n",
        "\n",
        "As we add the contributions from individual features (order-1 Shapley values), we can observe how each one pushes the prediction up or pulls it down:\n",
        "\n",
        "* Features like Weather and Humidity have a positive contribution, increasing the prediction above the baseline.\n",
        "\n",
        "* Features like Temperature and Year have a strong negative impact, pulling the prediction down by −35.4 and −45, respectively.\n",
        "\n",
        "Overall, the Waterfall chart helps us understand which features are driving the prediction, and in which direction—providing valuable insight into the model’s decision-making."
      ],
      "metadata": {
        "id": "K-Oalt2uuSnN"
      }
    }
  ]
}